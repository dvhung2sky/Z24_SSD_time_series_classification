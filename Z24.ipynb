{
 "cells": [
  {
   "cell_type": "code",
   "execution_count": 1,
   "metadata": {},
   "outputs": [],
   "source": [
    "import pandas as pd\n",
    "import numpy as np\n",
    "import matplotlib.pyplot as plt\n",
    "%matplotlib inline"
   ]
  },
  {
   "cell_type": "code",
   "execution_count": 7,
   "metadata": {},
   "outputs": [],
   "source": [
    "df = pd.read_csv('01setup01.csv', header = None, sep = '\\t')"
   ]
  },
  {
   "cell_type": "code",
   "execution_count": 11,
   "metadata": {},
   "outputs": [],
   "source": [
    "df_name = pd.read_csv('01setup01_loc.csv', header = None)"
   ]
  },
  {
   "cell_type": "code",
   "execution_count": 12,
   "metadata": {},
   "outputs": [
    {
     "data": {
      "text/html": [
       "<div>\n",
       "<style scoped>\n",
       "    .dataframe tbody tr th:only-of-type {\n",
       "        vertical-align: middle;\n",
       "    }\n",
       "\n",
       "    .dataframe tbody tr th {\n",
       "        vertical-align: top;\n",
       "    }\n",
       "\n",
       "    .dataframe thead th {\n",
       "        text-align: right;\n",
       "    }\n",
       "</style>\n",
       "<table border=\"1\" class=\"dataframe\">\n",
       "  <thead>\n",
       "    <tr style=\"text-align: right;\">\n",
       "      <th></th>\n",
       "      <th>0</th>\n",
       "    </tr>\n",
       "  </thead>\n",
       "  <tbody>\n",
       "    <tr>\n",
       "      <th>0</th>\n",
       "      <td>99V</td>\n",
       "    </tr>\n",
       "    <tr>\n",
       "      <th>1</th>\n",
       "      <td>100V</td>\n",
       "    </tr>\n",
       "    <tr>\n",
       "      <th>2</th>\n",
       "      <td>101V</td>\n",
       "    </tr>\n",
       "    <tr>\n",
       "      <th>3</th>\n",
       "      <td>102V</td>\n",
       "    </tr>\n",
       "    <tr>\n",
       "      <th>4</th>\n",
       "      <td>103V</td>\n",
       "    </tr>\n",
       "  </tbody>\n",
       "</table>\n",
       "</div>"
      ],
      "text/plain": [
       "      0\n",
       "0  99V \n",
       "1  100V\n",
       "2  101V\n",
       "3  102V\n",
       "4  103V"
      ]
     },
     "execution_count": 12,
     "metadata": {},
     "output_type": "execute_result"
    }
   ],
   "source": [
    "df_name.head()"
   ]
  },
  {
   "cell_type": "code",
   "execution_count": 8,
   "metadata": {},
   "outputs": [
    {
     "data": {
      "text/html": [
       "<div>\n",
       "<style scoped>\n",
       "    .dataframe tbody tr th:only-of-type {\n",
       "        vertical-align: middle;\n",
       "    }\n",
       "\n",
       "    .dataframe tbody tr th {\n",
       "        vertical-align: top;\n",
       "    }\n",
       "\n",
       "    .dataframe thead th {\n",
       "        text-align: right;\n",
       "    }\n",
       "</style>\n",
       "<table border=\"1\" class=\"dataframe\">\n",
       "  <thead>\n",
       "    <tr style=\"text-align: right;\">\n",
       "      <th></th>\n",
       "      <th>0</th>\n",
       "      <th>1</th>\n",
       "      <th>2</th>\n",
       "      <th>3</th>\n",
       "      <th>4</th>\n",
       "      <th>5</th>\n",
       "      <th>6</th>\n",
       "      <th>7</th>\n",
       "      <th>8</th>\n",
       "      <th>9</th>\n",
       "      <th>...</th>\n",
       "      <th>23</th>\n",
       "      <th>24</th>\n",
       "      <th>25</th>\n",
       "      <th>26</th>\n",
       "      <th>27</th>\n",
       "      <th>28</th>\n",
       "      <th>29</th>\n",
       "      <th>30</th>\n",
       "      <th>31</th>\n",
       "      <th>32</th>\n",
       "    </tr>\n",
       "  </thead>\n",
       "  <tbody>\n",
       "    <tr>\n",
       "      <th>0</th>\n",
       "      <td>-2.866200e-05</td>\n",
       "      <td>-3.647891e-05</td>\n",
       "      <td>-1.148410e-05</td>\n",
       "      <td>-0.000006</td>\n",
       "      <td>0.001453</td>\n",
       "      <td>0.000016</td>\n",
       "      <td>-0.000042</td>\n",
       "      <td>-0.000023</td>\n",
       "      <td>-0.000019</td>\n",
       "      <td>-0.000032</td>\n",
       "      <td>...</td>\n",
       "      <td>0.000011</td>\n",
       "      <td>-0.001053</td>\n",
       "      <td>0.000423</td>\n",
       "      <td>0.004274</td>\n",
       "      <td>0.002850</td>\n",
       "      <td>-0.000024</td>\n",
       "      <td>0.000025</td>\n",
       "      <td>0.000000</td>\n",
       "      <td>0.000043</td>\n",
       "      <td>0.000026</td>\n",
       "    </tr>\n",
       "    <tr>\n",
       "      <th>1</th>\n",
       "      <td>-5.790303e-07</td>\n",
       "      <td>-5.790303e-06</td>\n",
       "      <td>9.071475e-06</td>\n",
       "      <td>0.000006</td>\n",
       "      <td>0.001456</td>\n",
       "      <td>0.000018</td>\n",
       "      <td>-0.000041</td>\n",
       "      <td>0.000013</td>\n",
       "      <td>-0.000014</td>\n",
       "      <td>-0.000003</td>\n",
       "      <td>...</td>\n",
       "      <td>0.000013</td>\n",
       "      <td>-0.001047</td>\n",
       "      <td>0.000422</td>\n",
       "      <td>0.004276</td>\n",
       "      <td>0.002862</td>\n",
       "      <td>-0.000006</td>\n",
       "      <td>0.000021</td>\n",
       "      <td>-0.000003</td>\n",
       "      <td>0.000059</td>\n",
       "      <td>0.000027</td>\n",
       "    </tr>\n",
       "    <tr>\n",
       "      <th>2</th>\n",
       "      <td>1.032604e-05</td>\n",
       "      <td>-1.930101e-07</td>\n",
       "      <td>1.196663e-05</td>\n",
       "      <td>0.000006</td>\n",
       "      <td>0.001455</td>\n",
       "      <td>0.000018</td>\n",
       "      <td>-0.000022</td>\n",
       "      <td>0.000046</td>\n",
       "      <td>0.000002</td>\n",
       "      <td>0.000009</td>\n",
       "      <td>...</td>\n",
       "      <td>0.000016</td>\n",
       "      <td>-0.001055</td>\n",
       "      <td>0.000411</td>\n",
       "      <td>0.004277</td>\n",
       "      <td>0.002841</td>\n",
       "      <td>0.000023</td>\n",
       "      <td>0.000019</td>\n",
       "      <td>-0.000013</td>\n",
       "      <td>0.000080</td>\n",
       "      <td>-0.000016</td>\n",
       "    </tr>\n",
       "    <tr>\n",
       "      <th>3</th>\n",
       "      <td>-6.948364e-06</td>\n",
       "      <td>-2.393325e-05</td>\n",
       "      <td>-7.527394e-06</td>\n",
       "      <td>-0.000012</td>\n",
       "      <td>0.001439</td>\n",
       "      <td>0.000023</td>\n",
       "      <td>-0.000003</td>\n",
       "      <td>0.000021</td>\n",
       "      <td>0.000015</td>\n",
       "      <td>-0.000003</td>\n",
       "      <td>...</td>\n",
       "      <td>0.000005</td>\n",
       "      <td>-0.001048</td>\n",
       "      <td>0.000419</td>\n",
       "      <td>0.004267</td>\n",
       "      <td>0.002845</td>\n",
       "      <td>0.000031</td>\n",
       "      <td>0.000019</td>\n",
       "      <td>-0.000024</td>\n",
       "      <td>0.000099</td>\n",
       "      <td>-0.000037</td>\n",
       "    </tr>\n",
       "    <tr>\n",
       "      <th>4</th>\n",
       "      <td>-1.582683e-05</td>\n",
       "      <td>-2.760045e-05</td>\n",
       "      <td>2.895152e-07</td>\n",
       "      <td>0.000004</td>\n",
       "      <td>0.001461</td>\n",
       "      <td>0.000012</td>\n",
       "      <td>0.000004</td>\n",
       "      <td>0.000005</td>\n",
       "      <td>0.000017</td>\n",
       "      <td>-0.000020</td>\n",
       "      <td>...</td>\n",
       "      <td>0.000015</td>\n",
       "      <td>-0.001036</td>\n",
       "      <td>0.000422</td>\n",
       "      <td>0.004279</td>\n",
       "      <td>0.002871</td>\n",
       "      <td>0.000031</td>\n",
       "      <td>0.000021</td>\n",
       "      <td>-0.000027</td>\n",
       "      <td>0.000061</td>\n",
       "      <td>-0.000015</td>\n",
       "    </tr>\n",
       "  </tbody>\n",
       "</table>\n",
       "<p>5 rows × 33 columns</p>\n",
       "</div>"
      ],
      "text/plain": [
       "             0             1             2         3         4         5   \\\n",
       "0 -2.866200e-05 -3.647891e-05 -1.148410e-05 -0.000006  0.001453  0.000016   \n",
       "1 -5.790303e-07 -5.790303e-06  9.071475e-06  0.000006  0.001456  0.000018   \n",
       "2  1.032604e-05 -1.930101e-07  1.196663e-05  0.000006  0.001455  0.000018   \n",
       "3 -6.948364e-06 -2.393325e-05 -7.527394e-06 -0.000012  0.001439  0.000023   \n",
       "4 -1.582683e-05 -2.760045e-05  2.895152e-07  0.000004  0.001461  0.000012   \n",
       "\n",
       "         6         7         8         9   ...        23        24        25  \\\n",
       "0 -0.000042 -0.000023 -0.000019 -0.000032  ...  0.000011 -0.001053  0.000423   \n",
       "1 -0.000041  0.000013 -0.000014 -0.000003  ...  0.000013 -0.001047  0.000422   \n",
       "2 -0.000022  0.000046  0.000002  0.000009  ...  0.000016 -0.001055  0.000411   \n",
       "3 -0.000003  0.000021  0.000015 -0.000003  ...  0.000005 -0.001048  0.000419   \n",
       "4  0.000004  0.000005  0.000017 -0.000020  ...  0.000015 -0.001036  0.000422   \n",
       "\n",
       "         26        27        28        29        30        31        32  \n",
       "0  0.004274  0.002850 -0.000024  0.000025  0.000000  0.000043  0.000026  \n",
       "1  0.004276  0.002862 -0.000006  0.000021 -0.000003  0.000059  0.000027  \n",
       "2  0.004277  0.002841  0.000023  0.000019 -0.000013  0.000080 -0.000016  \n",
       "3  0.004267  0.002845  0.000031  0.000019 -0.000024  0.000099 -0.000037  \n",
       "4  0.004279  0.002871  0.000031  0.000021 -0.000027  0.000061 -0.000015  \n",
       "\n",
       "[5 rows x 33 columns]"
      ]
     },
     "execution_count": 8,
     "metadata": {},
     "output_type": "execute_result"
    }
   ],
   "source": [
    "df.head()"
   ]
  },
  {
   "cell_type": "code",
   "execution_count": 53,
   "metadata": {},
   "outputs": [],
   "source": [
    "i_pdt = '17'\n",
    "i_set = '01'\n",
    "df_name = pd.read_csv(f'{i_pdt}setup{i_set}_loc.csv', header = None)\n",
    "# df = pd.read_csv(f'01setup{i_set}.csv', header = None, sep = '\\t')"
   ]
  },
  {
   "cell_type": "code",
   "execution_count": 54,
   "metadata": {},
   "outputs": [
    {
     "data": {
      "text/plain": [
       "array(['99V ', '100V', '101V', '102V', '103V', '199L', '199T', '199V',\n",
       "       '200T', '200V', '201T', '201V', '202T', '202V', '203L', '203T',\n",
       "       '203V', '299V', '300V', '301V', '302V', '303V', '511L', '511T',\n",
       "       '511V', '512L', '512T', '512V', 'R1V ', 'R2L ', 'R2T ', 'R2V ',\n",
       "       'R3V '], dtype='<U4')"
      ]
     },
     "execution_count": 54,
     "metadata": {},
     "output_type": "execute_result"
    }
   ],
   "source": [
    "s = np.array(df_name[0].to_list()).astype('str')\n",
    "s"
   ]
  },
  {
   "cell_type": "code",
   "execution_count": 46,
   "metadata": {},
   "outputs": [
    {
     "data": {
      "text/plain": [
       "array(['119V', '120V', '121V', '122V', '123V', '219L', '219T', '219V',\n",
       "       '220T', '220V', '221T', '221V', '222T', '222V', '223L', '223T',\n",
       "       '223V', '319V', '320V', '321V', '322V', '323V', 'R1V ', 'R2L ',\n",
       "       'R2T ', 'R2V ', 'R3V '], dtype='<U4')"
      ]
     },
     "execution_count": 46,
     "metadata": {},
     "output_type": "execute_result"
    }
   ],
   "source": [
    "s = np.array(df_name[0].to_list()).astype('str')\n",
    "s"
   ]
  },
  {
   "cell_type": "code",
   "execution_count": 48,
   "metadata": {},
   "outputs": [
    {
     "data": {
      "text/plain": [
       "array(['119V', '120V', '121V', '122V', '123V', '219L', '219T', '219V',\n",
       "       '220T', '220V', '221T', '221V', '222T', '222V', '223L', '223T',\n",
       "       '223V', '319V', '320V', '321V', '322V', '323V', 'R1V ', 'R2L ',\n",
       "       'R2T ', 'R2V ', 'R3V '], dtype='<U4')"
      ]
     },
     "execution_count": 48,
     "metadata": {},
     "output_type": "execute_result"
    }
   ],
   "source": [
    "s = np.array(df_name[0].to_list()).astype('str')\n",
    "s"
   ]
  },
  {
   "cell_type": "code",
   "execution_count": 40,
   "metadata": {},
   "outputs": [
    {
     "data": {
      "text/plain": [
       "'221V'"
      ]
     },
     "execution_count": 40,
     "metadata": {},
     "output_type": "execute_result"
    }
   ],
   "source": [
    "s[11]"
   ]
  },
  {
   "cell_type": "code",
   "execution_count": 38,
   "metadata": {},
   "outputs": [
    {
     "data": {
      "text/plain": [
       "[<matplotlib.lines.Line2D at 0x258881420b8>]"
      ]
     },
     "execution_count": 38,
     "metadata": {},
     "output_type": "execute_result"
    },
    {
     "data": {
      "image/png": "[encoded data removed]",
      "text/plain": [
       "<Figure size 432x288 with 1 Axes>"
      ]
     },
     "metadata": {
      "needs_background": "light"
     },
     "output_type": "display_data"
    }
   ],
   "source": [
    "plt.plot(df[10])"
   ]
  },
  {
   "cell_type": "code",
   "execution_count": 39,
   "metadata": {},
   "outputs": [
    {
     "data": {
      "text/plain": [
       "[<matplotlib.lines.Line2D at 0x258882b8a90>]"
      ]
     },
     "execution_count": 39,
     "metadata": {},
     "output_type": "execute_result"
    },
    {
     "data": {
      "image/png": "[encoded data removed]",
      "text/plain": [
       "<Figure size 432x288 with 1 Axes>"
      ]
     },
     "metadata": {
      "needs_background": "light"
     },
     "output_type": "display_data"
    }
   ],
   "source": [
    "plt.plot(df[11])"
   ]
  },
  {
   "cell_type": "code",
   "execution_count": 52,
   "metadata": {},
   "outputs": [
    {
     "data": {
      "text/plain": [
       "65530"
      ]
     },
     "execution_count": 52,
     "metadata": {},
     "output_type": "execute_result"
    }
   ],
   "source": [
    "len(df[11])"
   ]
  },
  {
   "cell_type": "code",
   "execution_count": 55,
   "metadata": {},
   "outputs": [
    {
     "data": {
      "text/plain": [
       "625.0"
      ]
     },
     "execution_count": 55,
     "metadata": {},
     "output_type": "execute_result"
    }
   ],
   "source": [
    "10000/16"
   ]
  },
  {
   "cell_type": "code",
   "execution_count": 77,
   "metadata": {},
   "outputs": [
    {
     "name": "stdout",
     "output_type": "stream",
     "text": [
      "<class 'list'> (65530,)\n"
     ]
    }
   ],
   "source": [
    "\n",
    "print(type(x),np.shape(x))"
   ]
  },
  {
   "cell_type": "code",
   "execution_count": 85,
   "metadata": {},
   "outputs": [
    {
     "data": {
      "text/plain": [
       "(5, 65530)"
      ]
     },
     "execution_count": 85,
     "metadata": {},
     "output_type": "execute_result"
    }
   ],
   "source": [
    "X=[]\n",
    "for i in range(27,32):\n",
    "    x = df[i].to_list()\n",
    "    X.append(x)\n",
    "\n",
    "np.shape(X)"
   ]
  },
  {
   "cell_type": "code",
   "execution_count": null,
   "metadata": {},
   "outputs": [],
   "source": []
  },
  {
   "cell_type": "code",
   "execution_count": 62,
   "metadata": {},
   "outputs": [
    {
     "data": {
      "text/html": [
       "<div>\n",
       "<style scoped>\n",
       "    .dataframe tbody tr th:only-of-type {\n",
       "        vertical-align: middle;\n",
       "    }\n",
       "\n",
       "    .dataframe tbody tr th {\n",
       "        vertical-align: top;\n",
       "    }\n",
       "\n",
       "    .dataframe thead th {\n",
       "        text-align: right;\n",
       "    }\n",
       "</style>\n",
       "<table border=\"1\" class=\"dataframe\">\n",
       "  <thead>\n",
       "    <tr style=\"text-align: right;\">\n",
       "      <th></th>\n",
       "      <th>27</th>\n",
       "      <th>28</th>\n",
       "      <th>29</th>\n",
       "      <th>30</th>\n",
       "      <th>31</th>\n",
       "    </tr>\n",
       "  </thead>\n",
       "  <tbody>\n",
       "    <tr>\n",
       "      <th>0</th>\n",
       "      <td>0.002850</td>\n",
       "      <td>-0.000024</td>\n",
       "      <td>0.000025</td>\n",
       "      <td>0.000000</td>\n",
       "      <td>0.000043</td>\n",
       "    </tr>\n",
       "    <tr>\n",
       "      <th>1</th>\n",
       "      <td>0.002862</td>\n",
       "      <td>-0.000006</td>\n",
       "      <td>0.000021</td>\n",
       "      <td>-0.000003</td>\n",
       "      <td>0.000059</td>\n",
       "    </tr>\n",
       "    <tr>\n",
       "      <th>2</th>\n",
       "      <td>0.002841</td>\n",
       "      <td>0.000023</td>\n",
       "      <td>0.000019</td>\n",
       "      <td>-0.000013</td>\n",
       "      <td>0.000080</td>\n",
       "    </tr>\n",
       "    <tr>\n",
       "      <th>3</th>\n",
       "      <td>0.002845</td>\n",
       "      <td>0.000031</td>\n",
       "      <td>0.000019</td>\n",
       "      <td>-0.000024</td>\n",
       "      <td>0.000099</td>\n",
       "    </tr>\n",
       "    <tr>\n",
       "      <th>4</th>\n",
       "      <td>0.002871</td>\n",
       "      <td>0.000031</td>\n",
       "      <td>0.000021</td>\n",
       "      <td>-0.000027</td>\n",
       "      <td>0.000061</td>\n",
       "    </tr>\n",
       "  </tbody>\n",
       "</table>\n",
       "</div>"
      ],
      "text/plain": [
       "         27        28        29        30        31\n",
       "0  0.002850 -0.000024  0.000025  0.000000  0.000043\n",
       "1  0.002862 -0.000006  0.000021 -0.000003  0.000059\n",
       "2  0.002841  0.000023  0.000019 -0.000013  0.000080\n",
       "3  0.002845  0.000031  0.000019 -0.000024  0.000099\n",
       "4  0.002871  0.000031  0.000021 -0.000027  0.000061"
      ]
     },
     "execution_count": 62,
     "metadata": {},
     "output_type": "execute_result"
    }
   ],
   "source": [
    "df[[27,28,29,30,31]].head()"
   ]
  },
  {
   "cell_type": "code",
   "execution_count": 66,
   "metadata": {},
   "outputs": [
    {
     "data": {
      "text/plain": [
       "[<matplotlib.lines.Line2D at 0x2588ed501d0>]"
      ]
     },
     "execution_count": 66,
     "metadata": {},
     "output_type": "execute_result"
    },
    {
     "data": {
      "image/png": "[encoded data removed]",
      "text/plain": [
       "<Figure size 432x288 with 1 Axes>"
      ]
     },
     "metadata": {
      "needs_background": "light"
     },
     "output_type": "display_data"
    }
   ],
   "source": [
    "plt.plot(df[31])"
   ]
  },
  {
   "cell_type": "code",
   "execution_count": 117,
   "metadata": {},
   "outputs": [
    {
     "data": {
      "text/plain": [
       "33"
      ]
     },
     "execution_count": 117,
     "metadata": {},
     "output_type": "execute_result"
    }
   ],
   "source": [
    "Ncol = df.shape[1]\n",
    "Ncol"
   ]
  },
  {
   "cell_type": "code",
   "execution_count": 199,
   "metadata": {},
   "outputs": [],
   "source": [
    "XX = np.empty((1,8000,5))\n",
    "yy = []\n",
    "\n",
    "i_pdt = '17'\n",
    "\n",
    "for i_pdt in range(1,17):\n",
    "    if i_pdt < 10:\n",
    "        i_pdt_s = f'0{i_pdt}'\n",
    "    else:\n",
    "        i_pdt_s = f'{i_pdt}'\n",
    "    \n",
    "    for i_set in range(1,10):\n",
    "        df = pd.read_csv(f'{i_pdt_s}setup0{i_set}.csv', header = None, sep = '\\t')\n",
    "        Ncol = df.shape[1]    \n",
    "        X_data = np.empty((8,8000,1))        \n",
    "        for i in range(Ncol-5,Ncol):\n",
    "            x = df[i].to_list()\n",
    "            X = []\n",
    "            for j in range(8):\n",
    "                X.append(x[8000*j:8000*(j+1)])\n",
    "\n",
    "            X = np.array(X)\n",
    "            X = np.expand_dims(X, axis=2)\n",
    "            X_data = np.concatenate((X_data, X),axis=2)\n",
    "\n",
    "        XX = np.concatenate((XX, X_data[:,:,1:]), axis = 0)\n",
    "        yy += [i_pdt]*8\n",
    "\n",
    "XX = XX[1:,:,:]\n"
   ]
  },
  {
   "cell_type": "code",
   "execution_count": 200,
   "metadata": {},
   "outputs": [
    {
     "name": "stdout",
     "output_type": "stream",
     "text": [
      "(1152, 8000, 5) (1152,)\n"
     ]
    }
   ],
   "source": [
    "print(XX.shape, np.shape(yy))"
   ]
  },
  {
   "cell_type": "code",
   "execution_count": 201,
   "metadata": {},
   "outputs": [],
   "source": [
    "yy = np.array(yy) - 1"
   ]
  },
  {
   "cell_type": "code",
   "execution_count": 202,
   "metadata": {},
   "outputs": [],
   "source": [
    "from sklearn.model_selection import train_test_split"
   ]
  },
  {
   "cell_type": "code",
   "execution_count": 203,
   "metadata": {},
   "outputs": [],
   "source": [
    "X_train, X_test, y_train, y_test = train_test_split(XX, yy, test_size=0.2)"
   ]
  },
  {
   "cell_type": "code",
   "execution_count": 207,
   "metadata": {},
   "outputs": [],
   "source": [
    "import pickle"
   ]
  },
  {
   "cell_type": "code",
   "execution_count": 209,
   "metadata": {},
   "outputs": [],
   "source": [
    "with open('train_Z24.p','wb') as f:\n",
    "    pickle.dump(X_train, f)\n",
    "    pickle.dump(y_train, f)"
   ]
  },
  {
   "cell_type": "code",
   "execution_count": 210,
   "metadata": {},
   "outputs": [],
   "source": [
    "with open('valid_Z24.p','wb') as f:\n",
    "    pickle.dump(X_test, f)\n",
    "    pickle.dump(y_test, f)"
   ]
  },
  {
   "cell_type": "code",
   "execution_count": null,
   "metadata": {},
   "outputs": [],
   "source": []
  }
 ],
 "metadata": {
  "kernelspec": {
   "display_name": "Python 3",
   "language": "python",
   "name": "python3"
  },
  "language_info": {
   "codemirror_mode": {
    "name": "ipython",
    "version": 3
   },
   "file_extension": ".py",
   "mimetype": "text/x-python",
   "name": "python",
   "nbconvert_exporter": "python",
   "pygments_lexer": "ipython3",
   "version": "3.6.5"
  }
 },
 "nbformat": 4,
 "nbformat_minor": 2
}
